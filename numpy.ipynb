{
  "nbformat": 4,
  "nbformat_minor": 0,
  "metadata": {
    "colab": {
      "provenance": [],
      "authorship_tag": "ABX9TyNG9ZEDoiGl4d0a9nOI1ekF",
      "include_colab_link": true
    },
    "kernelspec": {
      "name": "python3",
      "display_name": "Python 3"
    },
    "language_info": {
      "name": "python"
    }
  },
  "cells": [
    {
      "cell_type": "markdown",
      "metadata": {
        "id": "view-in-github",
        "colab_type": "text"
      },
      "source": [
        "<a href=\"https://colab.research.google.com/github/MarkG/Pytorch-Tutorial-Youtube/blob/main/numpy.ipynb\" target=\"_parent\"><img src=\"https://colab.research.google.com/assets/colab-badge.svg\" alt=\"Open In Colab\"/></a>"
      ]
    },
    {
      "cell_type": "code",
      "execution_count": 33,
      "metadata": {
        "id": "cSwzH6EsDQZk"
      },
      "outputs": [],
      "source": [
        "import numpy as np"
      ]
    },
    {
      "cell_type": "code",
      "source": [
        "#shape\n",
        "np1 = np.array([[1,2,3,4,5]])\n",
        "print(np1.shape)\n",
        "#range\n",
        "np2 = np.arange(2, 10, 2)\n",
        "# zeros\n",
        "print (np2)\n",
        "np4 = np.zeros(10)\n",
        "# multi-dimentional zeros\n",
        "np5 = np.zeros((2,3))\n",
        "print (np5)\n",
        "# Full\n",
        "np6 = np.full((2,3), 8)\n",
        "print (np6)\n",
        "# convert list to np\n",
        "my_list1 = [1,2,3]\n",
        "np7 = np.array(my_list1)\n",
        "print (np7)"
      ],
      "metadata": {
        "colab": {
          "base_uri": "https://localhost:8080/"
        },
        "id": "Rj2YUsTBD2jq",
        "outputId": "9c25620a-4255-47df-e04a-b61515689077"
      },
      "execution_count": 13,
      "outputs": [
        {
          "output_type": "stream",
          "name": "stdout",
          "text": [
            "(1, 5)\n",
            "[2 4 6 8]\n",
            "[[0. 0. 0.]\n",
            " [0. 0. 0.]]\n",
            "[[8 8 8]\n",
            " [8 8 8]]\n"
          ]
        }
      ]
    },
    {
      "cell_type": "code",
      "source": [
        "# slicing np arrays\n",
        "np1 = np.array([1,2,3,4,5,6,7,8,9])\n",
        "\n",
        "# return 2-5\n",
        "print(np1[1:5])\n",
        "\n",
        "# return from 4 till the end\n",
        "print (np1[3:])\n",
        "\n",
        "# return negative  slicing\n",
        "print (np1[-3:-1])\n",
        "\n",
        "#steps\n",
        "print(np1[1:5]) # 2-5\n",
        "print(np1[1:5:2]) # 2-5 in step of 2\n",
        "print(np1[::2]) # step entire array of 2\n",
        "\n",
        "#step a 2d array\n",
        "np2 = np.array([[1,2,3,4,5], [6,7,8,9,10]])\n",
        "print(np2[1,2]) # pull out single item - 7\n",
        "print(np2[0:1,1:3]) # slice 2-d array 2,3\n",
        "print(np2[0:2,1:3]) # slice 2-d array from both rows 2,3 and 7,8"
      ],
      "metadata": {
        "colab": {
          "base_uri": "https://localhost:8080/"
        },
        "id": "jnbDM3p0EWYI",
        "outputId": "29f27cc8-2c38-49f8-d789-21377e3eb115"
      },
      "execution_count": 37,
      "outputs": [
        {
          "output_type": "stream",
          "name": "stdout",
          "text": [
            "[2 3 4 5]\n",
            "[4 5 6 7 8 9]\n",
            "[7 8]\n",
            "[2 3 4 5]\n",
            "[2 4]\n",
            "[1 3 5 7 9]\n",
            "8\n",
            "[[2 3]]\n",
            "[[2 3]\n",
            " [7 8]]\n"
          ]
        }
      ]
    },
    {
      "cell_type": "code",
      "source": [
        "# Numpy universal functions\n",
        "np1 = np.array([-3,-2,-1,0,1,2,3,4,5,6,7,8,9])\n",
        "print(np1)\n",
        "\n",
        "# Square route of each element\n",
        "print(np.sqrt(np1))\n",
        "\n",
        "# Absolute value\n",
        "print(np.abs(np1))\n",
        "\n",
        "# Exponential\n",
        "print(np.exp(np1))\n",
        "\n",
        "# Min/Max\n",
        "print(np.min(np1))\n",
        "print(np.max(np1))\n",
        "\n",
        "# Mean\n",
        "print(np.mean(np1))\n",
        "# Log\n",
        "print(np.log(np1))\n",
        "print(np.log10(np1))\n",
        "\n",
        "# Sign positive or negative\n",
        "print(np.sign(np1))\n",
        "\n",
        "# Trig - sin cos\n",
        "print(np.sin(np1))\n",
        "print(np.cos(np1))\n",
        "\n",
        "https://numpy.org/devdocs/reference/ufuncs.html"
      ],
      "metadata": {
        "colab": {
          "base_uri": "https://localhost:8080/"
        },
        "id": "gKR4ifDkE2WS",
        "outputId": "cc1934dd-16a2-4f66-fc1e-a6a2f70aca71"
      },
      "execution_count": 42,
      "outputs": [
        {
          "output_type": "stream",
          "name": "stdout",
          "text": [
            "[-3 -2 -1  0  1  2  3  4  5  6  7  8  9]\n",
            "[-0.14112001 -0.90929743 -0.84147098  0.          0.84147098  0.90929743\n",
            "  0.14112001 -0.7568025  -0.95892427 -0.2794155   0.6569866   0.98935825\n",
            "  0.41211849]\n",
            "[-0.9899925  -0.41614684  0.54030231  1.          0.54030231 -0.41614684\n",
            " -0.9899925  -0.65364362  0.28366219  0.96017029  0.75390225 -0.14550003\n",
            " -0.91113026]\n"
          ]
        }
      ]
    },
    {
      "cell_type": "code",
      "source": [
        "# Copy vs View\n",
        "np1 = np.array([1,2,3,4,5,6,7,8,9])\n",
        "\n",
        "#create a view\n",
        "np2 = np1.view()\n",
        "print(f'Original np1: {np1}')\n",
        "print(f'Original np2: {np2}')\n",
        "np1[0] = 10\n",
        "print(f'Modified np1: {np1}')\n",
        "print(f'Original np2: {np2}')\n",
        "\n",
        "#create a copy\n",
        "np2 = np1.copy()\n",
        "print(f'Original np1: {np1}')\n",
        "print(f'Original np2: {np2}')\n",
        "np1[0] = 10\n",
        "print(f'Modified np1: {np1}')\n",
        "print(f'Original np2: {np2}')\n",
        "\n"
      ],
      "metadata": {
        "colab": {
          "base_uri": "https://localhost:8080/"
        },
        "id": "_xZXBo0AK3bU",
        "outputId": "7074d1a1-4ef3-4edc-d71a-03e470172297"
      },
      "execution_count": 46,
      "outputs": [
        {
          "output_type": "stream",
          "name": "stdout",
          "text": [
            "Original np1: [1 2 3 4 5 6 7 8 9]\n",
            "Original np2: [1 2 3 4 5 6 7 8 9]\n",
            "Modified np1: [10  2  3  4  5  6  7  8  9]\n",
            "Original np2: [10  2  3  4  5  6  7  8  9]\n"
          ]
        }
      ]
    },
    {
      "cell_type": "code",
      "source": [
        "# Shape and reshape\n",
        "\n",
        "# Create 1-D mp array and get shape\n",
        "np1 = np.array([1,2,3,4,5,6,7,8,9,10,11,12])\n",
        "print(np1.shape)\n",
        "\n",
        "# Create 2-D mp array and get shape\n",
        "np2 = np.array([[1,2,3,4,5,6],[7,8,9,10,11,12]])\n",
        "print(np2.shape)\n",
        "\n",
        "# Reshape 2-D\n",
        "np3 = np1.reshape(3,4)\n",
        "print(np3.shape, np3)\n",
        "\n",
        "# Reshape 3-D\n",
        "np4 = np1.reshape(2,3,2)\n",
        "print(np4.shape, np4)\n",
        "\n",
        "#Flatten to 1-D\n",
        "np5 = np4.reshape(-1)\n",
        "print(np5.shape, np5)"
      ],
      "metadata": {
        "colab": {
          "base_uri": "https://localhost:8080/"
        },
        "id": "Jb6bscUcNEbA",
        "outputId": "cb686cc9-b58e-481b-bb39-12e8b921af64"
      },
      "execution_count": 52,
      "outputs": [
        {
          "output_type": "stream",
          "name": "stdout",
          "text": [
            "(3, 4) [[ 1  2  3  4]\n",
            " [ 5  6  7  8]\n",
            " [ 9 10 11 12]]\n",
            "(2, 3, 2) [[[ 1  2]\n",
            "  [ 3  4]\n",
            "  [ 5  6]]\n",
            "\n",
            " [[ 7  8]\n",
            "  [ 9 10]\n",
            "  [11 12]]]\n",
            "(12,) [ 1  2  3  4  5  6  7  8  9 10 11 12]\n"
          ]
        }
      ]
    },
    {
      "cell_type": "code",
      "source": [
        "# iterate thru np array\n",
        "# # 1-d\n",
        "# np1 = np.array([1,2,3,4,5,6,7,8,9,10,11,12])\n",
        "# for x in np1:\n",
        "#     print(x)\n",
        "\n",
        "# # 2-d\n",
        "# np2 = np.array([[1,2,3,4,5,6],[7,8,9,10,11,12]])\n",
        "# for x in np2:\n",
        "#     print(x) # print rows\n",
        "#     for y in x:\n",
        "#         print(y) # print individual items\n",
        "\n",
        "# # 3-d\n",
        "# np3 = np.array([[[1,2,3],[4,5,6],[7,8,9]]])\n",
        "# for x in np3:\n",
        "#     print(x) # print matrix\n",
        "#     for y in x:\n",
        "#         print(y) # print rows\n",
        "#         for z in y:\n",
        "#             print(z) # print individual items\n",
        "\n",
        "# Use np.nditer()\n",
        "np1 = np.array([1,2,3,4,5,6,7,8,9,10,11,12])\n",
        "for x in np.nditer(np1):\n",
        "    print(x) # print individual items\n",
        "np3 = np.array([[[1,2,3],[4,5,6],[7,8,9]]])\n",
        "for x in np.nditer(np3):\n",
        "    print(x) # print individual items"
      ],
      "metadata": {
        "colab": {
          "base_uri": "https://localhost:8080/"
        },
        "id": "7vCy8P-hO0lK",
        "outputId": "aab82f0f-0da6-46fc-d807-b21fc231c387"
      },
      "execution_count": 57,
      "outputs": [
        {
          "output_type": "stream",
          "name": "stdout",
          "text": [
            "1\n",
            "2\n",
            "3\n",
            "4\n",
            "5\n",
            "6\n",
            "7\n",
            "8\n",
            "9\n",
            "10\n",
            "11\n",
            "12\n",
            "1\n",
            "2\n",
            "3\n",
            "4\n",
            "5\n",
            "6\n",
            "7\n",
            "8\n",
            "9\n"
          ]
        }
      ]
    },
    {
      "cell_type": "code",
      "source": [
        "# sorting np arrays (dosn't change the original)\n",
        "\n",
        "# np1 = np.array([1,2,3,4,5,6])[::-1]\n",
        "# print(np1, np.sort(np1), np1)\n",
        "\n",
        "# # alphabetical\n",
        "# np2 = np.array(['banana', 'cherry', 'apple'])\n",
        "# print(np2, np.sort(np2))\n",
        "\n",
        "# # boolean\n",
        "# np3 = np.array([True, False, True])\n",
        "# print(np3, np.sort(np3))\n",
        "\n",
        "# 2-d\n",
        "np4 = np.array([[3,2,4],[5,0,1]])\n",
        "print(np4, '\\n', np.sort(np4))"
      ],
      "metadata": {
        "colab": {
          "base_uri": "https://localhost:8080/"
        },
        "id": "3C-leoe0Qqb1",
        "outputId": "fda2f416-ef87-4afb-bdc1-22902583a6b6"
      },
      "execution_count": 68,
      "outputs": [
        {
          "output_type": "stream",
          "name": "stdout",
          "text": [
            "[[3 2 4]\n",
            " [5 0 1]] \n",
            " [[2 3 4]\n",
            " [0 1 5]]\n"
          ]
        }
      ]
    },
    {
      "cell_type": "code",
      "source": [
        "# searching np array\n",
        "np1 = np.array([1,2,3,4,5,6,7,8,9,10,3])\n",
        "\n",
        "x = np.where(np1 == 3) # resturns the position tuple of 3\n",
        "print(x, x[0])\n",
        "\n",
        "x = np.where(np1 % 2 == 0) # resturns the position tupless of all even numbers\n",
        "print(x, x[0])\n",
        "\n",
        "x = np.where(np1 % 2 == 1) # resturns the position tupless of all odd numbers\n",
        "print(x, x[0])"
      ],
      "metadata": {
        "colab": {
          "base_uri": "https://localhost:8080/"
        },
        "id": "kJKm2muDSlE-",
        "outputId": "05339d11-ab77-48f6-9a28-a50e15185441"
      },
      "execution_count": 73,
      "outputs": [
        {
          "output_type": "stream",
          "name": "stdout",
          "text": [
            "(array([ 2, 10]),) [ 2 10]\n",
            "(array([1, 3, 5, 7, 9]),) [1 3 5 7 9]\n",
            "(array([ 0,  2,  4,  6,  8, 10]),) [ 0  2  4  6  8 10]\n"
          ]
        }
      ]
    },
    {
      "cell_type": "code",
      "source": [
        "# Filtering np arrays with Boolean Index Lists\n",
        "np1 = np.array([1,2,3,4,5,6,7,8,9,10])\n",
        "\n",
        "# x = [True, True, False, False, False, False, False, False, False, False]\n",
        "# print(np1[x])\n",
        "\n",
        "# # Create a filter array\n",
        "# filtered = []\n",
        "# for element in np1:\n",
        "#     if element % 2 == 0:\n",
        "#         filtered.append(True)\n",
        "#     else:\n",
        "#         filtered.append(False)\n",
        "# print(np1[filtered])\n",
        "\n",
        "# Shortcut\n",
        "filtered = np1 % 2 == 0\n",
        "print(filtered, '\\n', np1[filtered])"
      ],
      "metadata": {
        "colab": {
          "base_uri": "https://localhost:8080/"
        },
        "id": "lKMEs2HlUfBz",
        "outputId": "60da7589-e1ca-4022-9d6f-190884577b1d"
      },
      "execution_count": 76,
      "outputs": [
        {
          "output_type": "stream",
          "name": "stdout",
          "text": [
            "[False  True False  True False  True False  True False  True] \n",
            " [ 2  4  6  8 10]\n"
          ]
        }
      ]
    },
    {
      "cell_type": "code",
      "source": [],
      "metadata": {
        "id": "PMfh5xeiWF8V"
      },
      "execution_count": null,
      "outputs": []
    }
  ]
}