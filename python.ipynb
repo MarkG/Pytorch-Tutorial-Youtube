{
  "nbformat": 4,
  "nbformat_minor": 0,
  "metadata": {
    "colab": {
      "provenance": [],
      "authorship_tag": "ABX9TyNj+iYRHwBmtCx/0kSRlds4",
      "include_colab_link": true
    },
    "kernelspec": {
      "name": "python3",
      "display_name": "Python 3"
    },
    "language_info": {
      "name": "python"
    }
  },
  "cells": [
    {
      "cell_type": "markdown",
      "metadata": {
        "id": "view-in-github",
        "colab_type": "text"
      },
      "source": [
        "<a href=\"https://colab.research.google.com/github/MarkG/my-ml-practices/blob/main/python.ipynb\" target=\"_parent\"><img src=\"https://colab.research.google.com/assets/colab-badge.svg\" alt=\"Open In Colab\"/></a>"
      ]
    },
    {
      "cell_type": "code",
      "source": [
        "!pip install pydantic[email]"
      ],
      "metadata": {
        "colab": {
          "base_uri": "https://localhost:8080/"
        },
        "id": "afEIb37ndszZ",
        "outputId": "79fe330f-304e-4e74-c7ef-aab58d7599c9"
      },
      "execution_count": 12,
      "outputs": [
        {
          "output_type": "stream",
          "name": "stdout",
          "text": [
            "Requirement already satisfied: pydantic[email] in /usr/local/lib/python3.10/dist-packages (2.9.2)\n",
            "Requirement already satisfied: annotated-types>=0.6.0 in /usr/local/lib/python3.10/dist-packages (from pydantic[email]) (0.7.0)\n",
            "Requirement already satisfied: pydantic-core==2.23.4 in /usr/local/lib/python3.10/dist-packages (from pydantic[email]) (2.23.4)\n",
            "Requirement already satisfied: typing-extensions>=4.6.1 in /usr/local/lib/python3.10/dist-packages (from pydantic[email]) (4.12.2)\n",
            "Collecting email-validator>=2.0.0 (from pydantic[email])\n",
            "  Downloading email_validator-2.2.0-py3-none-any.whl.metadata (25 kB)\n",
            "Collecting dnspython>=2.0.0 (from email-validator>=2.0.0->pydantic[email])\n",
            "  Downloading dnspython-2.7.0-py3-none-any.whl.metadata (5.8 kB)\n",
            "Requirement already satisfied: idna>=2.0.0 in /usr/local/lib/python3.10/dist-packages (from email-validator>=2.0.0->pydantic[email]) (3.10)\n",
            "Downloading email_validator-2.2.0-py3-none-any.whl (33 kB)\n",
            "Downloading dnspython-2.7.0-py3-none-any.whl (313 kB)\n",
            "\u001b[2K   \u001b[90m━━━━━━━━━━━━━━━━━━━━━━━━━━━━━━━━━━━━━━━━\u001b[0m \u001b[32m313.6/313.6 kB\u001b[0m \u001b[31m8.2 MB/s\u001b[0m eta \u001b[36m0:00:00\u001b[0m\n",
            "\u001b[?25hInstalling collected packages: dnspython, email-validator\n",
            "Successfully installed dnspython-2.7.0 email-validator-2.2.0\n"
          ]
        }
      ]
    },
    {
      "cell_type": "code",
      "execution_count": 17,
      "metadata": {
        "colab": {
          "base_uri": "https://localhost:8080/"
        },
        "id": "QHtX61VRbHrd",
        "outputId": "47932e5c-0661-4d94-c3d6-c85debeb1bef"
      },
      "outputs": [
        {
          "output_type": "stream",
          "name": "stdout",
          "text": [
            "name='jack' email='jak@example.com' account_id=1\n",
            "name='john' email='john@example.com' account_id=2\n",
            "{\"name\":\"john\",\"email\":\"john@example.com\",\"account_id\":2}\n",
            "{'name': 'john', 'email': 'john@example.com', 'account_id': 2}\n"
          ]
        },
        {
          "output_type": "stream",
          "name": "stderr",
          "text": [
            "<ipython-input-17-96184730cba9>:11: PydanticDeprecatedSince20: Pydantic V1 style `@validator` validators are deprecated. You should migrate to Pydantic V2 style `@field_validator` validators, see the migration guide for more details. Deprecated in Pydantic V2.0 to be removed in V3.0. See Pydantic V2 Migration Guide at https://errors.pydantic.dev/2.9/migration/\n",
            "  @validator('account_id') # Pydantic V1 style `@validator` validators are deprecated. You should migrate to Pydantic V2 style `@field_validator` validators, see the migration guide for more details. Deprecated in Pydantic V2.0 to be removed in V3.0. See Pydantic V2 Migration Guide at https://errors.pydantic.dev/2.9/migration/\n"
          ]
        }
      ],
      "source": [
        "from re import error\n",
        "# pydantic\n",
        "from pydantic import BaseModel, Field, EmailStr, validator\n",
        "from typing import Optional\n",
        "\n",
        "class User(BaseModel):\n",
        "  name: str\n",
        "  email: EmailStr\n",
        "  account_id: int\n",
        "\n",
        "  @validator('account_id') # Pydantic V1 style `@validator` validators are deprecated. You should migrate to Pydantic V2 style `@field_validator` validators, see the migration guide for more details. Deprecated in Pydantic V2.0 to be removed in V3.0. See Pydantic V2 Migration Guide at https://errors.pydantic.dev/2.9/migration/\n",
        "  def validate_account_id(cls, value):\n",
        "    if value <= 0:\n",
        "      raise ValueError('account_id must be greater than 0')\n",
        "    return value\n",
        "\n",
        "# create with ctor\n",
        "user1 = User(name='jack', email='jak@example.com', account_id=1)\n",
        "print(user1)\n",
        "\n",
        "# create from dict\n",
        "user2_data = { 'name': 'john', 'email': 'john@example.com', 'account_id': 2 }\n",
        "user2 = User(**user2_data)\n",
        "print(user2)\n",
        "\n",
        "# data validation\n",
        "#  user3 = User(name='jack', email='jak@example.com', account_id='m') # ValidationError: 1 validation error for User account_id\n",
        "# user3 = User(name='jack', email='jakexample.com', account_id=1) # No error when email:str. when email: EmailStr - ValidationError - value is not a valid email address: An email address must have an @-sign.\n",
        "\n",
        "# custom validation\n",
        "# user3 = User(name='jack', email='jak@example.com', account_id=0) # when validate_account_id defined, error = Value error, account_id must be greater than 0\n",
        "\n",
        "# json\n",
        "print(user2.json())\n",
        "user33 = User.parse_raw(user2.json())\n",
        "# dict\n",
        "print(user2.dict())\n"
      ]
    },
    {
      "cell_type": "code",
      "source": [
        "import pydantic\n",
        "print(pydantic.__version__)"
      ],
      "metadata": {
        "colab": {
          "base_uri": "https://localhost:8080/"
        },
        "id": "_2ScHAx3b4s-",
        "outputId": "dfef74ae-89c3-4dc0-9e54-7dc8f6389da2"
      },
      "execution_count": 22,
      "outputs": [
        {
          "output_type": "stream",
          "name": "stdout",
          "text": [
            "2.9.2\n"
          ]
        }
      ]
    },
    {
      "cell_type": "code",
      "source": [],
      "metadata": {
        "id": "SD0pKXtyipB5"
      },
      "execution_count": null,
      "outputs": []
    }
  ]
}