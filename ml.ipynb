{
  "nbformat": 4,
  "nbformat_minor": 0,
  "metadata": {
    "colab": {
      "provenance": [],
      "gpuType": "T4",
      "authorship_tag": "ABX9TyOjnI19dCifEXesorXzXP77",
      "include_colab_link": true
    },
    "kernelspec": {
      "name": "python3",
      "display_name": "Python 3"
    },
    "language_info": {
      "name": "python"
    },
    "accelerator": "GPU"
  },
  "cells": [
    {
      "cell_type": "markdown",
      "metadata": {
        "id": "view-in-github",
        "colab_type": "text"
      },
      "source": [
        "<a href=\"https://colab.research.google.com/github/MarkG/my-ml-practices/blob/main/ml.ipynb\" target=\"_parent\"><img src=\"https://colab.research.google.com/assets/colab-badge.svg\" alt=\"Open In Colab\"/></a>"
      ]
    },
    {
      "cell_type": "markdown",
      "source": [
        "# Linear Regression"
      ],
      "metadata": {
        "id": "2jNsiKma1BZF"
      }
    },
    {
      "cell_type": "code",
      "execution_count": 6,
      "metadata": {
        "colab": {
          "base_uri": "https://localhost:8080/"
        },
        "id": "SiMV2fnuPRuS",
        "outputId": "1c5b0630-dd1c-4f02-fe8d-2946d0b5b867"
      },
      "outputs": [
        {
          "output_type": "stream",
          "name": "stdout",
          "text": [
            "Coefficiency:[-1.13903358], Intercept: 88.67269165300672\n"
          ]
        }
      ],
      "source": [
        "# single linear regression\n",
        "# Problem: we have collected data on class size and test scores for sample of students and we want to model the relationship between class size and the test scores.\n",
        "import pandas as pd\n",
        "import numpy as np\n",
        "from sklearn.linear_model import LinearRegression\n",
        "import matplotlib.pyplot as plt\n",
        "\n",
        "# students_data = pd.read_csv('students.csv')\n",
        "# students_data = pd.DataFrame(data = {\n",
        "#   'class_size': [20, 25, 30, 35, 40],\n",
        "#   'test_score': [75, 80, 85, 90, 95]\n",
        "# })\n",
        "# Generate DataFrame with test scores with a negative correlation to class size\n",
        "class_sizes = np.random.randint(15, 40, size=100)\n",
        "test_scores = 100 - (class_sizes + 15) + np.random.normal(0, 10, size=100)\n",
        "# print(test_scores)\n",
        "students_data = pd.DataFrame({'class_size': class_sizes, 'test_score': test_scores})\n",
        "\n",
        "# create the X (class size) and y (test score) arrays\n",
        "X = students_data[['class_size']]\n",
        "y = students_data['test_score']\n",
        "\n",
        "# fit the model to the data\n",
        "reg = LinearRegression().fit(X, y)\n",
        "\n",
        "# print the coefficiancy\n",
        "print(f'Coefficiency:{reg.coef_}, Intercept: {reg.intercept_}') # Coefficiancy:[0.40482578], Intercept: 63.16976575973032"
      ]
    },
    {
      "cell_type": "code",
      "source": [],
      "metadata": {
        "id": "zi0Y816w5lFS"
      },
      "execution_count": null,
      "outputs": []
    }
  ]
}